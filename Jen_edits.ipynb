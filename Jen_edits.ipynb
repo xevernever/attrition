{
 "cells": [
  {
   "cell_type": "markdown",
   "metadata": {},
   "source": [
    "## Unit Test Section"
   ]
  },
  {
   "cell_type": "markdown",
   "metadata": {},
   "source": [
    "Three unit tests:   \n",
    "1) Test if a data frame      \n",
    "2) Test the shape   \n",
    "3) Test docstring   "
   ]
  },
  {
   "cell_type": "code",
   "execution_count": null,
   "metadata": {
    "collapsed": true
   },
   "outputs": [],
   "source": [
    "def test_attrition_data():\n",
    "    att_test = load_data()\n",
    "    assert isinstance(att_test, pd.DataFrame)\n",
    "    assert left.shape == stayed.shape\n",
    "\n",
    "test_attrition_data()\n",
    "\n",
    "# Test docstring\n",
    "\n",
    "def _test()\n",
    "    import doctest\n",
    "    doctest.testmod()\n",
    "\n",
    "if __name__ == \"__main__\":\n",
    "    _test()\n"
   ]
  },
  {
   "cell_type": "markdown",
   "metadata": {},
   "source": [
    "## Goal 3 for Summary Statistics"
   ]
  },
  {
   "cell_type": "markdown",
   "metadata": {},
   "source": [
    "Caveats and mathematical notes:\n",
    "\n",
    "Right hand skewed distribution (i.e. asymmetrical distribution) changes statistics.  In future consider using median versus mean to accurately calculate statistical comparisons.   \n",
    "\n",
    "Equation for non-parametric skew:    \n",
    "### $$\\mu - \\nu / \\sigma$$  \n",
    "$$\\mu= mean$$\n",
    "$$\\nu = median$$\n",
    "$$\\sigma = std$$\n",
    "\n"
   ]
  },
  {
   "cell_type": "code",
   "execution_count": null,
   "metadata": {
    "collapsed": true
   },
   "outputs": [],
   "source": []
  }
 ],
 "metadata": {
  "kernelspec": {
   "display_name": "Python 3",
   "language": "python",
   "name": "python3"
  },
  "language_info": {
   "codemirror_mode": {
    "name": "ipython",
    "version": 3
   },
   "file_extension": ".py",
   "mimetype": "text/x-python",
   "name": "python",
   "nbconvert_exporter": "python",
   "pygments_lexer": "ipython3",
   "version": "3.6.0"
  }
 },
 "nbformat": 4,
 "nbformat_minor": 2
}
