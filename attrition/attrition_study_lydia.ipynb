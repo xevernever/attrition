{
 "cells": [
  {
   "cell_type": "markdown",
   "metadata": {},
   "source": [
    "# Attrition Study\n",
    "####  Why are our best and most experienced employees leaving ?\n",
    "The communication company Hytera in Toronto, Canada, posed this question on Kaggle, along with a dataset containing simulated employee data. The data tells us who departed and who stayed with the company, as well as other information such as performance rating, salary range, tenure, workload and injuries."
   ]
  },
  {
   "cell_type": "markdown",
   "metadata": {},
   "source": [
    "The results of this study indicate that personnel who have the greatest workload, as reflected by average monthly hours worked and number of projects, tend to leave at higher rates than those with a smaller workload. Despite the fact that busy workers receive higher evaluation ratings, their salaries are at the lower range of the scale. \n",
    "These observations suggest that: \n",
    "- high evaluation ratings do not motivate people to stay,\n",
    "- the combination of high workload and low salaries likely motivates people to leave.\n",
    "\n"
   ]
  },
  {
   "cell_type": "markdown",
   "metadata": {},
   "source": [
    "We set four broad goals for the project:\n",
    "1) Confirm and show the attrition problem the company currently faces.\n",
    "2) Test the company's assertions that the best employees and the most experienced employees tend to resign.\n",
    "3) Compute summary statistics to evaluate data cleanliness, anomalies, and outliers.\n",
    "4) Identify the most likely predictors of resignation for further analysis."
   ]
  },
  {
   "cell_type": "markdown",
   "metadata": {},
   "source": []
  },
  {
   "cell_type": "code",
   "execution_count": null,
   "metadata": {
    "collapsed": true
   },
   "outputs": [],
   "source": []
  },
  {
   "cell_type": "code",
   "execution_count": null,
   "metadata": {
    "collapsed": true
   },
   "outputs": [],
   "source": []
  },
  {
   "cell_type": "markdown",
   "metadata": {},
   "source": [
    "## Goal 1: Show the Attrition Problem\n",
    "Counts of people who stayed or left.   \n",
    "Distribution of the tenure of people who stayed or left."
   ]
  },
  {
   "cell_type": "markdown",
   "metadata": {},
   "source": []
  },
  {
   "cell_type": "code",
   "execution_count": null,
   "metadata": {
    "collapsed": true
   },
   "outputs": [],
   "source": [
    "from modules import display_attrition_level\n",
    "display_attrition_level()"
   ]
  },
  {
   "cell_type": "code",
   "execution_count": null,
   "metadata": {
    "collapsed": true
   },
   "outputs": [],
   "source": [
    "from modules import display_histogram_tenure\n",
    "display_histogram_tenure()\n"
   ]
  },
  {
   "cell_type": "markdown",
   "metadata": {},
   "source": [
    "## Goal 2: Test the Company's Assertions\n",
    "Are the best employees leaving?   \n",
    "Are the most experienced employees leaving?"
   ]
  },
  {
   "cell_type": "markdown",
   "metadata": {},
   "source": []
  },
  {
   "cell_type": "code",
   "execution_count": null,
   "metadata": {
    "collapsed": true
   },
   "outputs": [],
   "source": []
  },
  {
   "cell_type": "code",
   "execution_count": null,
   "metadata": {
    "collapsed": true
   },
   "outputs": [],
   "source": []
  },
  {
   "cell_type": "markdown",
   "metadata": {},
   "source": [
    "## Goal 3: Compute Summary Statistics\n",
    "Data cleanliness, anomalies, and outliers."
   ]
  },
  {
   "cell_type": "code",
   "execution_count": null,
   "metadata": {
    "collapsed": true
   },
   "outputs": [],
   "source": []
  },
  {
   "cell_type": "code",
   "execution_count": null,
   "metadata": {
    "collapsed": true
   },
   "outputs": [],
   "source": []
  },
  {
   "cell_type": "markdown",
   "metadata": {},
   "source": [
    "## Goal 4: Identify Likely Predictors"
   ]
  },
  {
   "cell_type": "markdown",
   "metadata": {},
   "source": [
    "## Unit Tests"
   ]
  },
  {
   "cell_type": "code",
   "execution_count": null,
   "metadata": {
    "collapsed": true
   },
   "outputs": [],
   "source": []
  },
  {
   "cell_type": "code",
   "execution_count": null,
   "metadata": {
    "collapsed": true
   },
   "outputs": [],
   "source": []
  },
  {
   "cell_type": "code",
   "execution_count": null,
   "metadata": {
    "collapsed": true
   },
   "outputs": [],
   "source": [
    "def test_hr_data():\n",
    "    df = load_csv_data()\n",
    "    assert isinstance(df, pd.Dataframe)\n",
    "    assert df.shape == (142846, 12)"
   ]
  }
 ],
 "metadata": {
  "kernelspec": {
   "display_name": "Python 3",
   "language": "python",
   "name": "python3"
  },
  "language_info": {
   "codemirror_mode": {
    "name": "ipython",
    "version": 3
   },
   "file_extension": ".py",
   "mimetype": "text/x-python",
   "name": "python",
   "nbconvert_exporter": "python",
   "pygments_lexer": "ipython3",
   "version": "3.6.0"
  }
 },
 "nbformat": 4,
 "nbformat_minor": 2
}
